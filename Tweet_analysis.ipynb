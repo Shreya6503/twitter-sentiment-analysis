{
 "cells": [
  {
   "cell_type": "markdown",
   "id": "9af96a11",
   "metadata": {},
   "source": [
    "Importing necessary libraries"
   ]
  },
  {
   "cell_type": "code",
   "execution_count": 2,
   "id": "34d16ec2",
   "metadata": {},
   "outputs": [],
   "source": [
    "import numpy as np\n",
    "import pandas as pd\n"
   ]
  },
  {
   "cell_type": "markdown",
   "id": "029aa60f",
   "metadata": {},
   "source": [
    "Loading the dataset"
   ]
  },
  {
   "cell_type": "code",
   "execution_count": 3,
   "id": "4c5481cc",
   "metadata": {},
   "outputs": [],
   "source": [
    "df = pd.read_csv('C:\\\\Users\\\\pansa\\\\Datasets\\\\tweets\\\\data_science.csv', dtype={'place': str})\n"
   ]
  },
  {
   "cell_type": "code",
   "execution_count": 4,
   "id": "6188433d",
   "metadata": {},
   "outputs": [
    {
     "data": {
      "text/html": [
       "<div>\n",
       "<style scoped>\n",
       "    .dataframe tbody tr th:only-of-type {\n",
       "        vertical-align: middle;\n",
       "    }\n",
       "\n",
       "    .dataframe tbody tr th {\n",
       "        vertical-align: top;\n",
       "    }\n",
       "\n",
       "    .dataframe thead th {\n",
       "        text-align: right;\n",
       "    }\n",
       "</style>\n",
       "<table border=\"1\" class=\"dataframe\">\n",
       "  <thead>\n",
       "    <tr style=\"text-align: right;\">\n",
       "      <th></th>\n",
       "      <th>id</th>\n",
       "      <th>conversation_id</th>\n",
       "      <th>created_at</th>\n",
       "      <th>date</th>\n",
       "      <th>time</th>\n",
       "      <th>timezone</th>\n",
       "      <th>user_id</th>\n",
       "      <th>username</th>\n",
       "      <th>name</th>\n",
       "      <th>tweet</th>\n",
       "      <th>...</th>\n",
       "      <th>geo</th>\n",
       "      <th>source</th>\n",
       "      <th>user_rt_id</th>\n",
       "      <th>user_rt</th>\n",
       "      <th>retweet_id</th>\n",
       "      <th>reply_to</th>\n",
       "      <th>retweet_date</th>\n",
       "      <th>translate</th>\n",
       "      <th>trans_src</th>\n",
       "      <th>trans_dest</th>\n",
       "    </tr>\n",
       "  </thead>\n",
       "  <tbody>\n",
       "    <tr>\n",
       "      <th>0</th>\n",
       "      <td>1.406400e+18</td>\n",
       "      <td>1.406400e+18</td>\n",
       "      <td>2021-06-20 05:26:01 IST</td>\n",
       "      <td>20-06-2021</td>\n",
       "      <td>05:26:01</td>\n",
       "      <td>530</td>\n",
       "      <td>1.113750e+18</td>\n",
       "      <td>ballouxfrancois</td>\n",
       "      <td>Prof Francois Balloux</td>\n",
       "      <td>What can be done?  - Never blindly trust an ab...</td>\n",
       "      <td>...</td>\n",
       "      <td>NaN</td>\n",
       "      <td>NaN</td>\n",
       "      <td>NaN</td>\n",
       "      <td>NaN</td>\n",
       "      <td>NaN</td>\n",
       "      <td>[]</td>\n",
       "      <td>NaN</td>\n",
       "      <td>NaN</td>\n",
       "      <td>NaN</td>\n",
       "      <td>NaN</td>\n",
       "    </tr>\n",
       "    <tr>\n",
       "      <th>1</th>\n",
       "      <td>1.406390e+18</td>\n",
       "      <td>1.406390e+18</td>\n",
       "      <td>2021-06-20 04:46:01 IST</td>\n",
       "      <td>20-06-2021</td>\n",
       "      <td>04:46:01</td>\n",
       "      <td>530</td>\n",
       "      <td>7.888990e+17</td>\n",
       "      <td>tdatascience</td>\n",
       "      <td>Towards Data Science</td>\n",
       "      <td>\"We need a paradigm shift from model-centric t...</td>\n",
       "      <td>...</td>\n",
       "      <td>NaN</td>\n",
       "      <td>NaN</td>\n",
       "      <td>NaN</td>\n",
       "      <td>NaN</td>\n",
       "      <td>NaN</td>\n",
       "      <td>[]</td>\n",
       "      <td>NaN</td>\n",
       "      <td>NaN</td>\n",
       "      <td>NaN</td>\n",
       "      <td>NaN</td>\n",
       "    </tr>\n",
       "    <tr>\n",
       "      <th>2</th>\n",
       "      <td>1.406390e+18</td>\n",
       "      <td>1.406390e+18</td>\n",
       "      <td>2021-06-20 04:30:00 IST</td>\n",
       "      <td>20-06-2021</td>\n",
       "      <td>04:30:00</td>\n",
       "      <td>530</td>\n",
       "      <td>1.940224e+07</td>\n",
       "      <td>sciencenews</td>\n",
       "      <td>Science News</td>\n",
       "      <td>Using high-resolution satellite data and compu...</td>\n",
       "      <td>...</td>\n",
       "      <td>NaN</td>\n",
       "      <td>NaN</td>\n",
       "      <td>NaN</td>\n",
       "      <td>NaN</td>\n",
       "      <td>NaN</td>\n",
       "      <td>[]</td>\n",
       "      <td>NaN</td>\n",
       "      <td>NaN</td>\n",
       "      <td>NaN</td>\n",
       "      <td>NaN</td>\n",
       "    </tr>\n",
       "    <tr>\n",
       "      <th>3</th>\n",
       "      <td>1.406380e+18</td>\n",
       "      <td>1.406380e+18</td>\n",
       "      <td>2021-06-20 04:19:01 IST</td>\n",
       "      <td>20-06-2021</td>\n",
       "      <td>04:19:01</td>\n",
       "      <td>530</td>\n",
       "      <td>7.888990e+17</td>\n",
       "      <td>tdatascience</td>\n",
       "      <td>Towards Data Science</td>\n",
       "      <td>.@Stephenson_Data shares four steps that will ...</td>\n",
       "      <td>...</td>\n",
       "      <td>NaN</td>\n",
       "      <td>NaN</td>\n",
       "      <td>NaN</td>\n",
       "      <td>NaN</td>\n",
       "      <td>NaN</td>\n",
       "      <td>[]</td>\n",
       "      <td>NaN</td>\n",
       "      <td>NaN</td>\n",
       "      <td>NaN</td>\n",
       "      <td>NaN</td>\n",
       "    </tr>\n",
       "    <tr>\n",
       "      <th>4</th>\n",
       "      <td>1.406360e+18</td>\n",
       "      <td>1.406360e+18</td>\n",
       "      <td>2021-06-20 02:40:01 IST</td>\n",
       "      <td>20-06-2021</td>\n",
       "      <td>02:40:01</td>\n",
       "      <td>530</td>\n",
       "      <td>7.888990e+17</td>\n",
       "      <td>tdatascience</td>\n",
       "      <td>Towards Data Science</td>\n",
       "      <td>\"Curricula is inherently brittle in a world wh...</td>\n",
       "      <td>...</td>\n",
       "      <td>NaN</td>\n",
       "      <td>NaN</td>\n",
       "      <td>NaN</td>\n",
       "      <td>NaN</td>\n",
       "      <td>NaN</td>\n",
       "      <td>[]</td>\n",
       "      <td>NaN</td>\n",
       "      <td>NaN</td>\n",
       "      <td>NaN</td>\n",
       "      <td>NaN</td>\n",
       "    </tr>\n",
       "  </tbody>\n",
       "</table>\n",
       "<p>5 rows × 35 columns</p>\n",
       "</div>"
      ],
      "text/plain": [
       "             id  conversation_id               created_at        date  \\\n",
       "0  1.406400e+18     1.406400e+18  2021-06-20 05:26:01 IST  20-06-2021   \n",
       "1  1.406390e+18     1.406390e+18  2021-06-20 04:46:01 IST  20-06-2021   \n",
       "2  1.406390e+18     1.406390e+18  2021-06-20 04:30:00 IST  20-06-2021   \n",
       "3  1.406380e+18     1.406380e+18  2021-06-20 04:19:01 IST  20-06-2021   \n",
       "4  1.406360e+18     1.406360e+18  2021-06-20 02:40:01 IST  20-06-2021   \n",
       "\n",
       "       time  timezone       user_id         username                   name  \\\n",
       "0  05:26:01       530  1.113750e+18  ballouxfrancois  Prof Francois Balloux   \n",
       "1  04:46:01       530  7.888990e+17     tdatascience   Towards Data Science   \n",
       "2  04:30:00       530  1.940224e+07      sciencenews           Science News   \n",
       "3  04:19:01       530  7.888990e+17     tdatascience   Towards Data Science   \n",
       "4  02:40:01       530  7.888990e+17     tdatascience   Towards Data Science   \n",
       "\n",
       "                                               tweet  ... geo source  \\\n",
       "0  What can be done?  - Never blindly trust an ab...  ... NaN    NaN   \n",
       "1  \"We need a paradigm shift from model-centric t...  ... NaN    NaN   \n",
       "2  Using high-resolution satellite data and compu...  ... NaN    NaN   \n",
       "3  .@Stephenson_Data shares four steps that will ...  ... NaN    NaN   \n",
       "4  \"Curricula is inherently brittle in a world wh...  ... NaN    NaN   \n",
       "\n",
       "  user_rt_id user_rt  retweet_id  reply_to  retweet_date translate trans_src  \\\n",
       "0        NaN     NaN         NaN        []           NaN       NaN       NaN   \n",
       "1        NaN     NaN         NaN        []           NaN       NaN       NaN   \n",
       "2        NaN     NaN         NaN        []           NaN       NaN       NaN   \n",
       "3        NaN     NaN         NaN        []           NaN       NaN       NaN   \n",
       "4        NaN     NaN         NaN        []           NaN       NaN       NaN   \n",
       "\n",
       "  trans_dest  \n",
       "0        NaN  \n",
       "1        NaN  \n",
       "2        NaN  \n",
       "3        NaN  \n",
       "4        NaN  \n",
       "\n",
       "[5 rows x 35 columns]"
      ]
     },
     "execution_count": 4,
     "metadata": {},
     "output_type": "execute_result"
    }
   ],
   "source": [
    "df.head()"
   ]
  },
  {
   "cell_type": "code",
   "execution_count": 5,
   "id": "68edbb2f",
   "metadata": {},
   "outputs": [
    {
     "data": {
      "text/plain": [
       "id                      0\n",
       "conversation_id         0\n",
       "created_at              0\n",
       "date                    0\n",
       "time                    0\n",
       "timezone                0\n",
       "user_id                 0\n",
       "username                0\n",
       "name                    0\n",
       "tweet                   0\n",
       "language                0\n",
       "mentions                0\n",
       "urls                    0\n",
       "photos                  0\n",
       "replies_count           0\n",
       "retweets_count          0\n",
       "likes_count             0\n",
       "hashtags                0\n",
       "cashtags                0\n",
       "link                    0\n",
       "retweet                 0\n",
       "quote_url          231065\n",
       "video                   0\n",
       "thumbnail          131048\n",
       "near               241386\n",
       "geo                241386\n",
       "source             241386\n",
       "user_rt_id         241386\n",
       "user_rt            241386\n",
       "retweet_id         241386\n",
       "reply_to                0\n",
       "retweet_date       241386\n",
       "translate          241386\n",
       "trans_src          241386\n",
       "trans_dest         241386\n",
       "dtype: int64"
      ]
     },
     "execution_count": 5,
     "metadata": {},
     "output_type": "execute_result"
    }
   ],
   "source": [
    "df.isnull().sum()"
   ]
  },
  {
   "cell_type": "code",
   "execution_count": 6,
   "id": "3e69edb7",
   "metadata": {},
   "outputs": [],
   "source": [
    "cols_to_drop = [\n",
    "    'conversation_id', 'user_id', 'name', 'timezone',\n",
    "    'quote_url', 'link', 'thumbnail', 'video',\n",
    "    'retweet_date', 'translate', 'trans_src', 'trans_dest',\n",
    "    'near', 'geo', 'source',\n",
    "    'user_rt_id', 'user_rt', 'retweet_id'\n",
    "]\n",
    "\n",
    "df.drop(columns=cols_to_drop, inplace=True, errors='ignore')\n"
   ]
  },
  {
   "cell_type": "code",
   "execution_count": 7,
   "id": "ae752b0c",
   "metadata": {},
   "outputs": [
    {
     "data": {
      "text/plain": [
       "id                0\n",
       "created_at        0\n",
       "date              0\n",
       "time              0\n",
       "username          0\n",
       "tweet             0\n",
       "language          0\n",
       "mentions          0\n",
       "urls              0\n",
       "photos            0\n",
       "replies_count     0\n",
       "retweets_count    0\n",
       "likes_count       0\n",
       "hashtags          0\n",
       "cashtags          0\n",
       "retweet           0\n",
       "reply_to          0\n",
       "dtype: int64"
      ]
     },
     "execution_count": 7,
     "metadata": {},
     "output_type": "execute_result"
    }
   ],
   "source": [
    "df.isnull().sum()"
   ]
  },
  {
   "cell_type": "code",
   "execution_count": 8,
   "id": "79f4916e",
   "metadata": {},
   "outputs": [
    {
     "data": {
      "text/plain": [
       "'Trends in #AI for next 5 years, including revenue, applications, and talent (#INFOGRAPHIC) ——————— #BigData #DataScience #MachineLearning #DeepLearning #ComputerVision #NLProc #DataLiteracy #AIStrategy #DigitalTransformation #EdgeAI #Edge #IoT #IIoT #IoTPL #IoTCommunity  https://t.co/mn7vFSgyyv'"
      ]
     },
     "execution_count": 8,
     "metadata": {},
     "output_type": "execute_result"
    }
   ],
   "source": [
    "df['tweet'][10]"
   ]
  },
  {
   "cell_type": "code",
   "execution_count": 26,
   "id": "d08dfdcd",
   "metadata": {},
   "outputs": [
    {
     "name": "stdout",
     "output_type": "stream",
     "text": [
      "Requirement already satisfied: nltk in c:\\users\\pansa\\appdata\\local\\programs\\python\\python312\\lib\\site-packages (3.9.1)\n",
      "Requirement already satisfied: click in c:\\users\\pansa\\appdata\\local\\programs\\python\\python312\\lib\\site-packages (from nltk) (8.2.1)\n",
      "Requirement already satisfied: joblib in c:\\users\\pansa\\appdata\\local\\programs\\python\\python312\\lib\\site-packages (from nltk) (1.4.2)\n",
      "Requirement already satisfied: regex>=2021.8.3 in c:\\users\\pansa\\appdata\\local\\programs\\python\\python312\\lib\\site-packages (from nltk) (2024.11.6)\n",
      "Requirement already satisfied: tqdm in c:\\users\\pansa\\appdata\\local\\programs\\python\\python312\\lib\\site-packages (from nltk) (4.67.1)\n",
      "Requirement already satisfied: colorama in c:\\users\\pansa\\appdata\\roaming\\python\\python312\\site-packages (from click->nltk) (0.4.6)\n"
     ]
    },
    {
     "name": "stderr",
     "output_type": "stream",
     "text": [
      "\n",
      "[notice] A new release of pip is available: 25.0.1 -> 25.1.1\n",
      "[notice] To update, run: python.exe -m pip install --upgrade pip\n"
     ]
    }
   ],
   "source": [
    "!pip install nltk"
   ]
  },
  {
   "cell_type": "code",
   "execution_count": 9,
   "id": "70df242b",
   "metadata": {},
   "outputs": [
    {
     "name": "stderr",
     "output_type": "stream",
     "text": [
      "[nltk_data] Downloading package vader_lexicon to\n",
      "[nltk_data]     C:\\Users\\pansa\\AppData\\Roaming\\nltk_data...\n",
      "[nltk_data]   Package vader_lexicon is already up-to-date!\n",
      "[nltk_data] Downloading package words to\n",
      "[nltk_data]     C:\\Users\\pansa\\AppData\\Roaming\\nltk_data...\n",
      "[nltk_data]   Package words is already up-to-date!\n"
     ]
    }
   ],
   "source": [
    "\n",
    "import nltk \n",
    "nltk.download('vader_lexicon')\n",
    "import re\n",
    "import pandas as pd \n",
    "import nltk \n",
    "nltk.download('words')\n",
    "words = set(nltk.corpus.words.words())"
   ]
  },
  {
   "cell_type": "code",
   "execution_count": 29,
   "id": "a52e7d5a",
   "metadata": {},
   "outputs": [
    {
     "name": "stderr",
     "output_type": "stream",
     "text": [
      "\n",
      "[notice] A new release of pip is available: 25.0.1 -> 25.1.1\n",
      "[notice] To update, run: python.exe -m pip install --upgrade pip\n"
     ]
    },
    {
     "name": "stdout",
     "output_type": "stream",
     "text": [
      "Requirement already satisfied: nltk in c:\\users\\pansa\\appdata\\local\\programs\\python\\python312\\lib\\site-packages (3.9.1)\n",
      "Requirement already satisfied: spacy in c:\\users\\pansa\\appdata\\local\\programs\\python\\python312\\lib\\site-packages (3.8.7)\n",
      "Requirement already satisfied: pandas in c:\\users\\pansa\\appdata\\roaming\\python\\python312\\site-packages (2.2.2)\n",
      "Requirement already satisfied: click in c:\\users\\pansa\\appdata\\local\\programs\\python\\python312\\lib\\site-packages (from nltk) (8.2.1)\n",
      "Requirement already satisfied: joblib in c:\\users\\pansa\\appdata\\local\\programs\\python\\python312\\lib\\site-packages (from nltk) (1.4.2)\n",
      "Requirement already satisfied: regex>=2021.8.3 in c:\\users\\pansa\\appdata\\local\\programs\\python\\python312\\lib\\site-packages (from nltk) (2024.11.6)\n",
      "Requirement already satisfied: tqdm in c:\\users\\pansa\\appdata\\local\\programs\\python\\python312\\lib\\site-packages (from nltk) (4.67.1)\n",
      "Requirement already satisfied: spacy-legacy<3.1.0,>=3.0.11 in c:\\users\\pansa\\appdata\\local\\programs\\python\\python312\\lib\\site-packages (from spacy) (3.0.12)\n",
      "Requirement already satisfied: spacy-loggers<2.0.0,>=1.0.0 in c:\\users\\pansa\\appdata\\local\\programs\\python\\python312\\lib\\site-packages (from spacy) (1.0.5)\n",
      "Requirement already satisfied: murmurhash<1.1.0,>=0.28.0 in c:\\users\\pansa\\appdata\\local\\programs\\python\\python312\\lib\\site-packages (from spacy) (1.0.13)\n",
      "Requirement already satisfied: cymem<2.1.0,>=2.0.2 in c:\\users\\pansa\\appdata\\local\\programs\\python\\python312\\lib\\site-packages (from spacy) (2.0.11)\n",
      "Requirement already satisfied: preshed<3.1.0,>=3.0.2 in c:\\users\\pansa\\appdata\\local\\programs\\python\\python312\\lib\\site-packages (from spacy) (3.0.10)\n",
      "Requirement already satisfied: thinc<8.4.0,>=8.3.4 in c:\\users\\pansa\\appdata\\local\\programs\\python\\python312\\lib\\site-packages (from spacy) (8.3.6)\n",
      "Requirement already satisfied: wasabi<1.2.0,>=0.9.1 in c:\\users\\pansa\\appdata\\local\\programs\\python\\python312\\lib\\site-packages (from spacy) (1.1.3)\n",
      "Requirement already satisfied: srsly<3.0.0,>=2.4.3 in c:\\users\\pansa\\appdata\\local\\programs\\python\\python312\\lib\\site-packages (from spacy) (2.5.1)\n",
      "Requirement already satisfied: catalogue<2.1.0,>=2.0.6 in c:\\users\\pansa\\appdata\\local\\programs\\python\\python312\\lib\\site-packages (from spacy) (2.0.10)\n",
      "Requirement already satisfied: weasel<0.5.0,>=0.1.0 in c:\\users\\pansa\\appdata\\local\\programs\\python\\python312\\lib\\site-packages (from spacy) (0.4.1)\n",
      "Requirement already satisfied: typer<1.0.0,>=0.3.0 in c:\\users\\pansa\\appdata\\local\\programs\\python\\python312\\lib\\site-packages (from spacy) (0.16.0)\n",
      "Requirement already satisfied: numpy>=1.19.0 in c:\\users\\pansa\\appdata\\local\\programs\\python\\python312\\lib\\site-packages (from spacy) (2.3.1)\n",
      "Requirement already satisfied: requests<3.0.0,>=2.13.0 in c:\\users\\pansa\\appdata\\roaming\\python\\python312\\site-packages (from spacy) (2.31.0)\n",
      "Requirement already satisfied: pydantic!=1.8,!=1.8.1,<3.0.0,>=1.7.4 in c:\\users\\pansa\\appdata\\local\\programs\\python\\python312\\lib\\site-packages (from spacy) (2.11.7)\n",
      "Requirement already satisfied: jinja2 in c:\\users\\pansa\\appdata\\local\\programs\\python\\python312\\lib\\site-packages (from spacy) (3.1.6)\n",
      "Requirement already satisfied: setuptools in c:\\users\\pansa\\appdata\\roaming\\python\\python312\\site-packages (from spacy) (69.5.1)\n",
      "Requirement already satisfied: packaging>=20.0 in c:\\users\\pansa\\appdata\\roaming\\python\\python312\\site-packages (from spacy) (24.0)\n",
      "Requirement already satisfied: langcodes<4.0.0,>=3.2.0 in c:\\users\\pansa\\appdata\\local\\programs\\python\\python312\\lib\\site-packages (from spacy) (3.5.0)\n",
      "Requirement already satisfied: python-dateutil>=2.8.2 in c:\\users\\pansa\\appdata\\roaming\\python\\python312\\site-packages (from pandas) (2.9.0.post0)\n",
      "Requirement already satisfied: pytz>=2020.1 in c:\\users\\pansa\\appdata\\roaming\\python\\python312\\site-packages (from pandas) (2024.1)\n",
      "Requirement already satisfied: tzdata>=2022.7 in c:\\users\\pansa\\appdata\\roaming\\python\\python312\\site-packages (from pandas) (2024.1)\n",
      "Requirement already satisfied: language-data>=1.2 in c:\\users\\pansa\\appdata\\local\\programs\\python\\python312\\lib\\site-packages (from langcodes<4.0.0,>=3.2.0->spacy) (1.3.0)\n",
      "Requirement already satisfied: annotated-types>=0.6.0 in c:\\users\\pansa\\appdata\\local\\programs\\python\\python312\\lib\\site-packages (from pydantic!=1.8,!=1.8.1,<3.0.0,>=1.7.4->spacy) (0.7.0)\n",
      "Requirement already satisfied: pydantic-core==2.33.2 in c:\\users\\pansa\\appdata\\local\\programs\\python\\python312\\lib\\site-packages (from pydantic!=1.8,!=1.8.1,<3.0.0,>=1.7.4->spacy) (2.33.2)\n",
      "Requirement already satisfied: typing-extensions>=4.12.2 in c:\\users\\pansa\\appdata\\local\\programs\\python\\python312\\lib\\site-packages (from pydantic!=1.8,!=1.8.1,<3.0.0,>=1.7.4->spacy) (4.14.1)\n",
      "Requirement already satisfied: typing-inspection>=0.4.0 in c:\\users\\pansa\\appdata\\local\\programs\\python\\python312\\lib\\site-packages (from pydantic!=1.8,!=1.8.1,<3.0.0,>=1.7.4->spacy) (0.4.1)\n",
      "Requirement already satisfied: six>=1.5 in c:\\users\\pansa\\appdata\\roaming\\python\\python312\\site-packages (from python-dateutil>=2.8.2->pandas) (1.16.0)\n",
      "Requirement already satisfied: charset-normalizer<4,>=2 in c:\\users\\pansa\\appdata\\roaming\\python\\python312\\site-packages (from requests<3.0.0,>=2.13.0->spacy) (3.3.2)\n",
      "Requirement already satisfied: idna<4,>=2.5 in c:\\users\\pansa\\appdata\\roaming\\python\\python312\\site-packages (from requests<3.0.0,>=2.13.0->spacy) (3.7)\n",
      "Requirement already satisfied: urllib3<3,>=1.21.1 in c:\\users\\pansa\\appdata\\local\\programs\\python\\python312\\lib\\site-packages (from requests<3.0.0,>=2.13.0->spacy) (1.26.20)\n",
      "Requirement already satisfied: certifi>=2017.4.17 in c:\\users\\pansa\\appdata\\roaming\\python\\python312\\site-packages (from requests<3.0.0,>=2.13.0->spacy) (2024.2.2)\n",
      "Requirement already satisfied: blis<1.4.0,>=1.3.0 in c:\\users\\pansa\\appdata\\local\\programs\\python\\python312\\lib\\site-packages (from thinc<8.4.0,>=8.3.4->spacy) (1.3.0)\n",
      "Requirement already satisfied: confection<1.0.0,>=0.0.1 in c:\\users\\pansa\\appdata\\local\\programs\\python\\python312\\lib\\site-packages (from thinc<8.4.0,>=8.3.4->spacy) (0.1.5)\n",
      "Requirement already satisfied: colorama in c:\\users\\pansa\\appdata\\roaming\\python\\python312\\site-packages (from tqdm->nltk) (0.4.6)\n",
      "Requirement already satisfied: shellingham>=1.3.0 in c:\\users\\pansa\\appdata\\local\\programs\\python\\python312\\lib\\site-packages (from typer<1.0.0,>=0.3.0->spacy) (1.5.4)\n",
      "Requirement already satisfied: rich>=10.11.0 in c:\\users\\pansa\\appdata\\roaming\\python\\python312\\site-packages (from typer<1.0.0,>=0.3.0->spacy) (13.7.1)\n",
      "Requirement already satisfied: cloudpathlib<1.0.0,>=0.7.0 in c:\\users\\pansa\\appdata\\local\\programs\\python\\python312\\lib\\site-packages (from weasel<0.5.0,>=0.1.0->spacy) (0.21.1)\n",
      "Requirement already satisfied: smart-open<8.0.0,>=5.2.1 in c:\\users\\pansa\\appdata\\local\\programs\\python\\python312\\lib\\site-packages (from weasel<0.5.0,>=0.1.0->spacy) (7.3.0.post1)\n",
      "Requirement already satisfied: MarkupSafe>=2.0 in c:\\users\\pansa\\appdata\\roaming\\python\\python312\\site-packages (from jinja2->spacy) (2.1.5)\n",
      "Requirement already satisfied: marisa-trie>=1.1.0 in c:\\users\\pansa\\appdata\\local\\programs\\python\\python312\\lib\\site-packages (from language-data>=1.2->langcodes<4.0.0,>=3.2.0->spacy) (1.2.1)\n",
      "Requirement already satisfied: markdown-it-py>=2.2.0 in c:\\users\\pansa\\appdata\\roaming\\python\\python312\\site-packages (from rich>=10.11.0->typer<1.0.0,>=0.3.0->spacy) (3.0.0)\n",
      "Requirement already satisfied: pygments<3.0.0,>=2.13.0 in c:\\users\\pansa\\appdata\\roaming\\python\\python312\\site-packages (from rich>=10.11.0->typer<1.0.0,>=0.3.0->spacy) (2.17.2)\n",
      "Requirement already satisfied: wrapt in c:\\users\\pansa\\appdata\\roaming\\python\\python312\\site-packages (from smart-open<8.0.0,>=5.2.1->weasel<0.5.0,>=0.1.0->spacy) (1.16.0)\n",
      "Requirement already satisfied: mdurl~=0.1 in c:\\users\\pansa\\appdata\\roaming\\python\\python312\\site-packages (from markdown-it-py>=2.2.0->rich>=10.11.0->typer<1.0.0,>=0.3.0->spacy) (0.1.2)\n"
     ]
    }
   ],
   "source": [
    "!pip install nltk spacy pandas"
   ]
  },
  {
   "cell_type": "code",
   "execution_count": 30,
   "id": "c526f31d",
   "metadata": {},
   "outputs": [
    {
     "name": "stdout",
     "output_type": "stream",
     "text": [
      "Collecting en-core-web-sm==3.8.0\n",
      "  Downloading https://github.com/explosion/spacy-models/releases/download/en_core_web_sm-3.8.0/en_core_web_sm-3.8.0-py3-none-any.whl (12.8 MB)\n",
      "     ---------------------------------------- 0.0/12.8 MB ? eta -:--:--\n",
      "     ---------------------------------------- 0.0/12.8 MB ? eta -:--:--\n",
      "     ---------------------------------------- 0.0/12.8 MB ? eta -:--:--\n",
      "      --------------------------------------- 0.3/12.8 MB ? eta -:--:--\n",
      "     - -------------------------------------- 0.5/12.8 MB 1.4 MB/s eta 0:00:09\n",
      "     -- ------------------------------------- 0.8/12.8 MB 1.5 MB/s eta 0:00:08\n",
      "     --- ------------------------------------ 1.0/12.8 MB 1.1 MB/s eta 0:00:11\n",
      "     ---- ----------------------------------- 1.3/12.8 MB 1.2 MB/s eta 0:00:10\n",
      "     ---- ----------------------------------- 1.6/12.8 MB 1.3 MB/s eta 0:00:09\n",
      "     ----- ---------------------------------- 1.8/12.8 MB 1.2 MB/s eta 0:00:10\n",
      "     ------ --------------------------------- 2.1/12.8 MB 1.2 MB/s eta 0:00:09\n",
      "     -------- ------------------------------- 2.6/12.8 MB 1.3 MB/s eta 0:00:08\n",
      "     --------- ------------------------------ 3.1/12.8 MB 1.4 MB/s eta 0:00:07\n",
      "     ----------- ---------------------------- 3.7/12.8 MB 1.6 MB/s eta 0:00:06\n",
      "     ------------- -------------------------- 4.5/12.8 MB 1.7 MB/s eta 0:00:05\n",
      "     --------------- ------------------------ 5.0/12.8 MB 1.8 MB/s eta 0:00:05\n",
      "     ----------------- ---------------------- 5.5/12.8 MB 1.9 MB/s eta 0:00:04\n",
      "     ------------------ --------------------- 5.8/12.8 MB 1.9 MB/s eta 0:00:04\n",
      "     ------------------- -------------------- 6.3/12.8 MB 1.9 MB/s eta 0:00:04\n",
      "     --------------------- ------------------ 6.8/12.8 MB 1.9 MB/s eta 0:00:04\n",
      "     ---------------------- ----------------- 7.1/12.8 MB 1.9 MB/s eta 0:00:04\n",
      "     ------------------------ --------------- 7.9/12.8 MB 2.0 MB/s eta 0:00:03\n",
      "     ------------------------- -------------- 8.1/12.8 MB 2.0 MB/s eta 0:00:03\n",
      "     --------------------------- ------------ 8.9/12.8 MB 2.0 MB/s eta 0:00:02\n",
      "     ----------------------------- ---------- 9.4/12.8 MB 2.0 MB/s eta 0:00:02\n",
      "     ------------------------------- -------- 10.0/12.8 MB 2.0 MB/s eta 0:00:02\n",
      "     ------------------------------- -------- 10.2/12.8 MB 2.0 MB/s eta 0:00:02\n",
      "     --------------------------------- ------ 10.7/12.8 MB 2.0 MB/s eta 0:00:02\n",
      "     ----------------------------------- ---- 11.3/12.8 MB 2.1 MB/s eta 0:00:01\n",
      "     ------------------------------------ --- 11.5/12.8 MB 2.0 MB/s eta 0:00:01\n",
      "     ------------------------------------ --- 11.5/12.8 MB 2.0 MB/s eta 0:00:01\n",
      "     ------------------------------------ --- 11.5/12.8 MB 2.0 MB/s eta 0:00:01\n",
      "     ---------------------------------------  12.6/12.8 MB 2.0 MB/s eta 0:00:01\n",
      "     ---------------------------------------- 12.8/12.8 MB 2.0 MB/s eta 0:00:00\n",
      "\u001b[38;5;2m✔ Download and installation successful\u001b[0m\n",
      "You can now load the package via spacy.load('en_core_web_sm')\n"
     ]
    },
    {
     "name": "stderr",
     "output_type": "stream",
     "text": [
      "\n",
      "[notice] A new release of pip is available: 25.0.1 -> 25.1.1\n",
      "[notice] To update, run: python.exe -m pip install --upgrade pip\n"
     ]
    }
   ],
   "source": [
    "!python -m spacy download en_core_web_sm\n"
   ]
  },
  {
   "cell_type": "code",
   "execution_count": 11,
   "id": "5c1a4064",
   "metadata": {},
   "outputs": [],
   "source": [
    "import spacy\n",
    "import re\n",
    "\n",
    "nlp = spacy.load(\"en_core_web_sm\")\n",
    "\n",
    "def\tcleaner(tweet):\n",
    "    tweet\t=\tre.sub(\"@[A-Za-z0-9]+\",\t\"\",\ttweet)\n",
    "    tweet\t=\tre.sub(r\"(?:\\@|http?\\://|https?\\://|www)\\S+\",\t\"\",\ttweet)\n",
    "    tweet\t=\t\"\t\".join(tweet.split())\n",
    "    tweet\t=\ttweet.replace(\"#\",\t\"\").replace(\"_\",\t\"\t\")\n",
    "    tweet\t=\t\"\t\".join(w\tfor\tw\tin\tnltk.wordpunct_tokenize(tweet)\tif\tw.lower()\tin\twords\tor\tnot\tw.isalpha())\n",
    "    return\ttweet\n",
    "df['tweet_clean']\t=\tdf['tweet'].apply(cleaner)"
   ]
  },
  {
   "cell_type": "code",
   "execution_count": 14,
   "id": "615fb25a",
   "metadata": {},
   "outputs": [],
   "source": [
    "word_dict = {\n",
    "    'manipulate': -1,\n",
    "    'manipulative': -1,\n",
    "    'jamescharlesiscancelled': -1,\n",
    "    'jamescharlesisoverparty': -1,\n",
    "    'pedophile': -1,\n",
    "    'pedo': -1,\n",
    "    'cancel': -1,\n",
    "    'cancelled': -1,\n",
    "    'cancel culture': 0.4,\n",
    "    'teamtati': -1,\n",
    "    'teamjames': 1,\n",
    "    'teamjamescharles': 1,\n",
    "    'liar': -1\n",
    "}\n"
   ]
  },
  {
   "cell_type": "code",
   "execution_count": 15,
   "id": "c1f68e61",
   "metadata": {},
   "outputs": [],
   "source": [
    "import nltk\n",
    "from nltk.sentiment.vader import SentimentIntensityAnalyzer\n",
    "sid\t=\tSentimentIntensityAnalyzer()\n",
    "sid.lexicon.update(word_dict)\n",
    "list1\t=\t[]\n",
    "for\ti\tin\tdf['tweet_clean']:\n",
    "    list1.append(sid.polarity_scores(str(i))['compound'])"
   ]
  },
  {
   "cell_type": "code",
   "execution_count": 16,
   "id": "88a4f42b",
   "metadata": {},
   "outputs": [],
   "source": [
    "df['sentiment']\t=\tpd.Series(list1)\n",
    "\n",
    "def\tsentiment_category(sentiment):\n",
    "    if\tsentiment\t>\t0:\n",
    "        return 'positive'\n",
    "    elif\tsentiment\t==\t0:\n",
    "        return 'neutral'\n",
    "    else:\n",
    "        return 'negative'\n",
    "df['sentiment_category']\t=\tdf['sentiment'].apply(sentiment_category)"
   ]
  },
  {
   "cell_type": "code",
   "execution_count": 17,
   "id": "46031ea7",
   "metadata": {},
   "outputs": [
    {
     "data": {
      "text/html": [
       "<div>\n",
       "<style scoped>\n",
       "    .dataframe tbody tr th:only-of-type {\n",
       "        vertical-align: middle;\n",
       "    }\n",
       "\n",
       "    .dataframe tbody tr th {\n",
       "        vertical-align: top;\n",
       "    }\n",
       "\n",
       "    .dataframe thead th {\n",
       "        text-align: right;\n",
       "    }\n",
       "</style>\n",
       "<table border=\"1\" class=\"dataframe\">\n",
       "  <thead>\n",
       "    <tr style=\"text-align: right;\">\n",
       "      <th></th>\n",
       "      <th>tweet</th>\n",
       "      <th>date</th>\n",
       "      <th>id</th>\n",
       "      <th>sentiment</th>\n",
       "      <th>sentiment_category</th>\n",
       "    </tr>\n",
       "  </thead>\n",
       "  <tbody>\n",
       "    <tr>\n",
       "      <th>0</th>\n",
       "      <td>What can be done?  - Never blindly trust an ab...</td>\n",
       "      <td>20-06-2021</td>\n",
       "      <td>1.406400e+18</td>\n",
       "      <td>-0.4592</td>\n",
       "      <td>negative</td>\n",
       "    </tr>\n",
       "    <tr>\n",
       "      <th>1</th>\n",
       "      <td>\"We need a paradigm shift from model-centric t...</td>\n",
       "      <td>20-06-2021</td>\n",
       "      <td>1.406390e+18</td>\n",
       "      <td>-0.3535</td>\n",
       "      <td>negative</td>\n",
       "    </tr>\n",
       "    <tr>\n",
       "      <th>2</th>\n",
       "      <td>Using high-resolution satellite data and compu...</td>\n",
       "      <td>20-06-2021</td>\n",
       "      <td>1.406390e+18</td>\n",
       "      <td>0.0000</td>\n",
       "      <td>neutral</td>\n",
       "    </tr>\n",
       "    <tr>\n",
       "      <th>3</th>\n",
       "      <td>.@Stephenson_Data shares four steps that will ...</td>\n",
       "      <td>20-06-2021</td>\n",
       "      <td>1.406380e+18</td>\n",
       "      <td>0.6249</td>\n",
       "      <td>positive</td>\n",
       "    </tr>\n",
       "    <tr>\n",
       "      <th>4</th>\n",
       "      <td>\"Curricula is inherently brittle in a world wh...</td>\n",
       "      <td>20-06-2021</td>\n",
       "      <td>1.406360e+18</td>\n",
       "      <td>0.2960</td>\n",
       "      <td>positive</td>\n",
       "    </tr>\n",
       "  </tbody>\n",
       "</table>\n",
       "</div>"
      ],
      "text/plain": [
       "                                               tweet        date  \\\n",
       "0  What can be done?  - Never blindly trust an ab...  20-06-2021   \n",
       "1  \"We need a paradigm shift from model-centric t...  20-06-2021   \n",
       "2  Using high-resolution satellite data and compu...  20-06-2021   \n",
       "3  .@Stephenson_Data shares four steps that will ...  20-06-2021   \n",
       "4  \"Curricula is inherently brittle in a world wh...  20-06-2021   \n",
       "\n",
       "             id  sentiment sentiment_category  \n",
       "0  1.406400e+18    -0.4592           negative  \n",
       "1  1.406390e+18    -0.3535           negative  \n",
       "2  1.406390e+18     0.0000            neutral  \n",
       "3  1.406380e+18     0.6249           positive  \n",
       "4  1.406360e+18     0.2960           positive  "
      ]
     },
     "execution_count": 17,
     "metadata": {},
     "output_type": "execute_result"
    }
   ],
   "source": [
    "df\t=\tdf[['tweet',\t'date',\t'id',\t'sentiment',\t'sentiment_category']]\n",
    "df.head()"
   ]
  },
  {
   "cell_type": "code",
   "execution_count": 18,
   "id": "0f1da79c",
   "metadata": {},
   "outputs": [
    {
     "data": {
      "image/png": "[encoded data removed]",
      "text/plain": [
       "<Figure size 640x480 with 1 Axes>"
      ]
     },
     "metadata": {},
     "output_type": "display_data"
    }
   ],
   "source": [
    "import matplotlib.pyplot as plt\n",
    "df['sentiment_category'].value_counts().plot(kind='bar', color=['green', 'red', 'blue'])\n",
    "plt.title('Sentiment Distribution')\n",
    "plt.xlabel('Sentiment')\n",
    "plt.ylabel('Tweet Count')\n",
    "plt.show()\n"
   ]
  },
  {
   "cell_type": "code",
   "execution_count": 20,
   "id": "a7969ad9",
   "metadata": {},
   "outputs": [
    {
     "name": "stdout",
     "output_type": "stream",
     "text": [
      "Collecting wordcloud"
     ]
    },
    {
     "name": "stderr",
     "output_type": "stream",
     "text": [
      "\n",
      "[notice] A new release of pip is available: 25.0.1 -> 25.1.1\n",
      "[notice] To update, run: python.exe -m pip install --upgrade pip\n"
     ]
    },
    {
     "name": "stdout",
     "output_type": "stream",
     "text": [
      "\n",
      "  Downloading wordcloud-1.9.4-cp312-cp312-win_amd64.whl.metadata (3.5 kB)\n",
      "Requirement already satisfied: numpy>=1.6.1 in c:\\users\\pansa\\appdata\\local\\programs\\python\\python312\\lib\\site-packages (from wordcloud) (2.3.1)\n",
      "Requirement already satisfied: pillow in c:\\users\\pansa\\appdata\\roaming\\python\\python312\\site-packages (from wordcloud) (10.3.0)\n",
      "Requirement already satisfied: matplotlib in c:\\users\\pansa\\appdata\\roaming\\python\\python312\\site-packages (from wordcloud) (3.8.4)\n",
      "Requirement already satisfied: contourpy>=1.0.1 in c:\\users\\pansa\\appdata\\roaming\\python\\python312\\site-packages (from matplotlib->wordcloud) (1.2.1)\n",
      "Requirement already satisfied: cycler>=0.10 in c:\\users\\pansa\\appdata\\roaming\\python\\python312\\site-packages (from matplotlib->wordcloud) (0.12.1)\n",
      "Requirement already satisfied: fonttools>=4.22.0 in c:\\users\\pansa\\appdata\\roaming\\python\\python312\\site-packages (from matplotlib->wordcloud) (4.51.0)\n",
      "Requirement already satisfied: kiwisolver>=1.3.1 in c:\\users\\pansa\\appdata\\roaming\\python\\python312\\site-packages (from matplotlib->wordcloud) (1.4.5)\n",
      "Requirement already satisfied: packaging>=20.0 in c:\\users\\pansa\\appdata\\roaming\\python\\python312\\site-packages (from matplotlib->wordcloud) (24.0)\n",
      "Requirement already satisfied: pyparsing>=2.3.1 in c:\\users\\pansa\\appdata\\roaming\\python\\python312\\site-packages (from matplotlib->wordcloud) (3.1.2)\n",
      "Requirement already satisfied: python-dateutil>=2.7 in c:\\users\\pansa\\appdata\\roaming\\python\\python312\\site-packages (from matplotlib->wordcloud) (2.9.0.post0)\n",
      "Requirement already satisfied: six>=1.5 in c:\\users\\pansa\\appdata\\roaming\\python\\python312\\site-packages (from python-dateutil>=2.7->matplotlib->wordcloud) (1.16.0)\n",
      "Downloading wordcloud-1.9.4-cp312-cp312-win_amd64.whl (301 kB)\n",
      "Installing collected packages: wordcloud\n",
      "Successfully installed wordcloud-1.9.4\n"
     ]
    }
   ],
   "source": [
    "!pip install wordcloud"
   ]
  },
  {
   "cell_type": "code",
   "execution_count": 21,
   "id": "d770170c",
   "metadata": {},
   "outputs": [
    {
     "data": {
      "image/png": "[encoded data removed]",
      "text/plain": [
       "<Figure size 640x480 with 1 Axes>"
      ]
     },
     "metadata": {},
     "output_type": "display_data"
    }
   ],
   "source": [
    "import\tmatplotlib.pyplot\tas\tplt\n",
    "from wordcloud\timport\tWordCloud\n",
    "df2\t=df[(df['date']>='2019-05-11')\t&\t(df['date']<='2019-05-14')]\n",
    "positive=df2[df2['sentiment_category']=='positive']\n",
    "wordcloud=WordCloud(max_font_size=50,\tmax_words=500,\tbackground_color=\"white\").generate(str(positive['tweet']))\n",
    "plt.figure()\n",
    "plt.imshow(wordcloud,\tinterpolation=\"bilinear\")\n",
    "plt.axis(\"off\")\n",
    "plt.show()"
   ]
  }
 ],
 "metadata": {
  "kernelspec": {
   "display_name": "Python 3",
   "language": "python",
   "name": "python3"
  },
  "language_info": {
   "codemirror_mode": {
    "name": "ipython",
    "version": 3
   },
   "file_extension": ".py",
   "mimetype": "text/x-python",
   "name": "python",
   "nbconvert_exporter": "python",
   "pygments_lexer": "ipython3",
   "version": "3.12.8"
  }
 },
 "nbformat": 4,
 "nbformat_minor": 5
}
